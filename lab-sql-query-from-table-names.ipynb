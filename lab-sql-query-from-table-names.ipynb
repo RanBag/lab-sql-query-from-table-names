{
 "cells": [
  {
   "cell_type": "markdown",
   "id": "00a57394-53dd-47cd-a5e7-6e7122bbb0f6",
   "metadata": {},
   "source": [
    "# SQL query from table names"
   ]
  },
  {
   "cell_type": "markdown",
   "id": "86bc2813-763c-49f2-9f5d-e1f87a20556f",
   "metadata": {
    "id": "86bc2813-763c-49f2-9f5d-e1f87a20556f"
   },
   "source": [
    "In This notebook we are going to test if using just the name of the table, and a shord definition of its contect we can use a model like GTP3.5-Turbo to select which tables are necessary to create a SQL Order to answer the user petition."
   ]
  },
  {
   "cell_type": "code",
   "execution_count": 71,
   "id": "7fbbdf5b-4d7f-4496-8f40-9d15ea46d023",
   "metadata": {
    "id": "7fbbdf5b-4d7f-4496-8f40-9d15ea46d023"
   },
   "outputs": [],
   "source": [
    "from openai import OpenAI\n",
    "import os\n",
    "from dotenv import load_dotenv, find_dotenv\n",
    "_ = load_dotenv(find_dotenv())\n",
    "\n",
    "OPENAI_API_KEY  = os.getenv('OPENAI_API_KEY')"
   ]
  },
  {
   "cell_type": "code",
   "execution_count": 72,
   "id": "e480bbfb-9a80-4ea6-b792-067e63ae3148",
   "metadata": {
    "id": "e480bbfb-9a80-4ea6-b792-067e63ae3148"
   },
   "outputs": [],
   "source": [
    "#Function to call the model.\n",
    "def return_OAI(user_message):\n",
    "    client = OpenAI(\n",
    "    # This is the default and can be omitted\n",
    "    api_key=OPENAI_API_KEY,\n",
    ")\n",
    "    context = []\n",
    "    context.append({'role':'system', \"content\": user_message})\n",
    "\n",
    "    response = client.chat.completions.create(\n",
    "            model=\"gpt-3.5-turbo\",\n",
    "            messages=context,\n",
    "            temperature=0,\n",
    "        )\n",
    "\n",
    "    return (response.choices[0].message.content)"
   ]
  },
  {
   "cell_type": "code",
   "execution_count": 73,
   "id": "009e681c-d95d-4c9c-b044-5bfd76e3ad95",
   "metadata": {
    "id": "009e681c-d95d-4c9c-b044-5bfd76e3ad95"
   },
   "outputs": [],
   "source": [
    "text_tables = '\\n'.join([f\"{row['table']}: {row['definition']}\" for index, row in df.iterrows()])"
   ]
  },
  {
   "cell_type": "code",
   "execution_count": 74,
   "id": "fe03ac25-8d02-4cd1-99a1-be4220c6fd2d",
   "metadata": {
    "id": "fe03ac25-8d02-4cd1-99a1-be4220c6fd2d",
    "outputId": "c1f3aab1-5f26-48fe-fcf9-3780120f5aad"
   },
   "outputs": [
    {
     "name": "stdout",
     "output_type": "stream",
     "text": [
      "Engineers: Engineer details: name, age, specialization, years of experience\n",
      "Specialties: List of engineering specializations (e.g., Aerospace, Software, Mechanical, Civil)\n",
      "Projects: Project details: project name, type, duration, assigned engineers\n",
      "Companies: Company details: name, industry, number of employees, headquarters\n"
     ]
    }
   ],
   "source": [
    "print(text_tables)"
   ]
  },
  {
   "cell_type": "code",
   "execution_count": 75,
   "id": "c7e275ae-f20d-4134-b9b6-d8677dfb544c",
   "metadata": {
    "id": "c7e275ae-f20d-4134-b9b6-d8677dfb544c"
   },
   "outputs": [],
   "source": [
    "prompt_question_tables = \"\"\"\n",
    "Given the following tables and their content definitions,\n",
    "###Tables\n",
    "{tables}\n",
    "\n",
    "Tell me which tables would be necessary to query with SQL to address the user's question below.\n",
    "Return the table names in a json format.\n",
    "###User Questyion:\n",
    "{question}\n",
    "\"\"\"\n"
   ]
  },
  {
   "cell_type": "markdown",
   "id": "321bb9a2-4937-4e9a-a31b-7049cb8f5aa3",
   "metadata": {
    "id": "321bb9a2-4937-4e9a-a31b-7049cb8f5aa3"
   },
   "source": [
    "# Exercise\n",
    " - Complete the prompts similar to what we did in class. \n",
    "     - Try a few versions if you have time\n",
    "     - Be creative\n",
    " - Write a one page report summarizing your findings.\n",
    "     - Were there variations that didn't work well? i.e., where GPT either hallucinated or wrong\n",
    " - What did you learn?"
   ]
  },
  {
   "cell_type": "markdown",
   "id": "a5c7a15c",
   "metadata": {},
   "source": [
    "# Version One: Healthcare Data"
   ]
  },
  {
   "cell_type": "code",
   "execution_count": 76,
   "id": "6d5d2bdc-d822-4ed8-815e-b3f223730f15",
   "metadata": {
    "id": "6d5d2bdc-d822-4ed8-815e-b3f223730f15",
    "outputId": "61068bf0-41e3-40d9-b453-b76da5b0f086"
   },
   "outputs": [
    {
     "name": "stdout",
     "output_type": "stream",
     "text": [
      "       table                                         definition\n",
      "0    Doctors  Doctors information, name, age, specialty, yea...\n",
      "1   Patients  Patient details, medical history, assigned doc...\n",
      "2   Branches  Hospital branches, location, number of doctors...\n",
      "3  Hospitals  Hospital information, name, capacity, faciliti...\n"
     ]
    },
    {
     "data": {
      "text/html": [
       "<div>\n",
       "<style scoped>\n",
       "    .dataframe tbody tr th:only-of-type {\n",
       "        vertical-align: middle;\n",
       "    }\n",
       "\n",
       "    .dataframe tbody tr th {\n",
       "        vertical-align: top;\n",
       "    }\n",
       "\n",
       "    .dataframe thead th {\n",
       "        text-align: right;\n",
       "    }\n",
       "</style>\n",
       "<table border=\"1\" class=\"dataframe\">\n",
       "  <thead>\n",
       "    <tr style=\"text-align: right;\">\n",
       "      <th></th>\n",
       "      <th>table</th>\n",
       "      <th>definition</th>\n",
       "    </tr>\n",
       "  </thead>\n",
       "  <tbody>\n",
       "    <tr>\n",
       "      <th>0</th>\n",
       "      <td>Doctors</td>\n",
       "      <td>Doctors information, name, age, specialty, yea...</td>\n",
       "    </tr>\n",
       "    <tr>\n",
       "      <th>1</th>\n",
       "      <td>Patients</td>\n",
       "      <td>Patient details, medical history, assigned doc...</td>\n",
       "    </tr>\n",
       "    <tr>\n",
       "      <th>2</th>\n",
       "      <td>Branches</td>\n",
       "      <td>Hospital branches, location, number of doctors...</td>\n",
       "    </tr>\n",
       "    <tr>\n",
       "      <th>3</th>\n",
       "      <td>Hospitals</td>\n",
       "      <td>Hospital information, name, capacity, faciliti...</td>\n",
       "    </tr>\n",
       "  </tbody>\n",
       "</table>\n",
       "</div>"
      ],
      "text/plain": [
       "       table                                         definition\n",
       "0    Doctors  Doctors information, name, age, specialty, yea...\n",
       "1   Patients  Patient details, medical history, assigned doc...\n",
       "2   Branches  Hospital branches, location, number of doctors...\n",
       "3  Hospitals  Hospital information, name, capacity, faciliti..."
      ]
     },
     "execution_count": 76,
     "metadata": {},
     "output_type": "execute_result"
    }
   ],
   "source": [
    "import pandas as pd\n",
    "\n",
    "# Table and definitions sample\n",
    "data = {\n",
    "    'table': ['Doctors', 'Patients', 'Branches', 'Hospitals'],\n",
    "    'definition': [\n",
    "        'Doctors information, name, age, specialty, years of experience',\n",
    "        'Patient details, medical history, assigned doctor, year of admission',\n",
    "        'Hospital branches, location, number of doctors, departments',\n",
    "        'Hospital information, name, capacity, facilities, affiliations'\n",
    "    ]\n",
    "}\n",
    "\n",
    "df = pd.DataFrame(data)\n",
    "print(df)\n",
    "\n",
    "df.head()\n"
   ]
  },
  {
   "cell_type": "markdown",
   "id": "c0a02aaa",
   "metadata": {},
   "source": [
    "-  Convert Table Definitions to Text Format"
   ]
  },
  {
   "cell_type": "code",
   "execution_count": 77,
   "id": "a428bd45",
   "metadata": {},
   "outputs": [
    {
     "name": "stdout",
     "output_type": "stream",
     "text": [
      "Doctors: Doctors information, name, age, specialty, years of experience\n",
      "Patients: Patient details, medical history, assigned doctor, year of admission\n",
      "Branches: Hospital branches, location, number of doctors, departments\n",
      "Hospitals: Hospital information, name, capacity, facilities, affiliations\n"
     ]
    }
   ],
   "source": [
    "text_tables = '\\n'.join([f\"{row['table']}: {row['definition']}\" for index, row in df.iterrows()])\n",
    "print(text_tables)"
   ]
  },
  {
   "cell_type": "markdown",
   "id": "8801d8b1",
   "metadata": {},
   "source": [
    "- Generate and Execute the First Query"
   ]
  },
  {
   "cell_type": "code",
   "execution_count": 78,
   "id": "b1cb5957-2df2-4e5e-9e6a-ace955c9817e",
   "metadata": {
    "id": "b1cb5957-2df2-4e5e-9e6a-ace955c9817e"
   },
   "outputs": [
    {
     "name": "stdout",
     "output_type": "stream",
     "text": [
      "```json\n",
      "{\n",
      "    \"tables\": [\"Doctors\", \"Patients\"]\n",
      "}\n",
      "```\n"
     ]
    }
   ],
   "source": [
    "#Creating the prompt, with the user questions and the tables definitions.\n",
    "pqt1 = prompt_question_tables.format(tables=text_tables, question='Return the doctor ID of the patient with Patient_ID = 123')\n",
    "print(return_OAI(pqt1))"
   ]
  },
  {
   "cell_type": "markdown",
   "id": "118644cd",
   "metadata": {},
   "source": [
    "- Generate the Second Query - aggregated result"
   ]
  },
  {
   "cell_type": "code",
   "execution_count": 79,
   "id": "57e07083-be8f-4cd0-95bd-c4b909422c6b",
   "metadata": {
    "id": "57e07083-be8f-4cd0-95bd-c4b909422c6b"
   },
   "outputs": [
    {
     "name": "stdout",
     "output_type": "stream",
     "text": [
      "```json\n",
      "{\n",
      "    \"tables\": [\"Doctors\"]\n",
      "}\n",
      "```\n"
     ]
    }
   ],
   "source": [
    "pqt3 = prompt_question_tables.format(tables=text_tables,\n",
    "                                     question='Return the doctor with the highest number of experience')\n",
    "print(return_OAI(pqt3))"
   ]
  },
  {
   "cell_type": "markdown",
   "id": "40cae295",
   "metadata": {},
   "source": [
    "# Version Two: Engineering Data"
   ]
  },
  {
   "cell_type": "code",
   "execution_count": 80,
   "id": "7aa159c4",
   "metadata": {},
   "outputs": [
    {
     "name": "stdout",
     "output_type": "stream",
     "text": [
      "         table                                         definition\n",
      "0    Engineers  Engineer details: name, age, specialization, y...\n",
      "1  Specialties  List of engineering specializations (e.g., Aer...\n",
      "2     Projects  Project details: project name, type, duration,...\n",
      "3    Companies  Company details: name, industry, number of emp...\n"
     ]
    },
    {
     "data": {
      "text/html": [
       "<div>\n",
       "<style scoped>\n",
       "    .dataframe tbody tr th:only-of-type {\n",
       "        vertical-align: middle;\n",
       "    }\n",
       "\n",
       "    .dataframe tbody tr th {\n",
       "        vertical-align: top;\n",
       "    }\n",
       "\n",
       "    .dataframe thead th {\n",
       "        text-align: right;\n",
       "    }\n",
       "</style>\n",
       "<table border=\"1\" class=\"dataframe\">\n",
       "  <thead>\n",
       "    <tr style=\"text-align: right;\">\n",
       "      <th></th>\n",
       "      <th>table</th>\n",
       "      <th>definition</th>\n",
       "    </tr>\n",
       "  </thead>\n",
       "  <tbody>\n",
       "    <tr>\n",
       "      <th>0</th>\n",
       "      <td>Engineers</td>\n",
       "      <td>Engineer details: name, age, specialization, y...</td>\n",
       "    </tr>\n",
       "    <tr>\n",
       "      <th>1</th>\n",
       "      <td>Specialties</td>\n",
       "      <td>List of engineering specializations (e.g., Aer...</td>\n",
       "    </tr>\n",
       "    <tr>\n",
       "      <th>2</th>\n",
       "      <td>Projects</td>\n",
       "      <td>Project details: project name, type, duration,...</td>\n",
       "    </tr>\n",
       "    <tr>\n",
       "      <th>3</th>\n",
       "      <td>Companies</td>\n",
       "      <td>Company details: name, industry, number of emp...</td>\n",
       "    </tr>\n",
       "  </tbody>\n",
       "</table>\n",
       "</div>"
      ],
      "text/plain": [
       "         table                                         definition\n",
       "0    Engineers  Engineer details: name, age, specialization, y...\n",
       "1  Specialties  List of engineering specializations (e.g., Aer...\n",
       "2     Projects  Project details: project name, type, duration,...\n",
       "3    Companies  Company details: name, industry, number of emp..."
      ]
     },
     "execution_count": 80,
     "metadata": {},
     "output_type": "execute_result"
    }
   ],
   "source": [
    "import pandas as pd\n",
    "\n",
    "# Table and definitions\n",
    "data = {\n",
    "    'table': ['Engineers', 'Specialties', 'Projects','Companies'],\n",
    "    'definition': [\n",
    "        'Engineer details: name, age, specialization, years of experience',\n",
    "        'List of engineering specializations (e.g., Aerospace, Software, Mechanical, Civil)',\n",
    "        'Project details: project name, type, duration, assigned engineers',\n",
    "        'Company details: name, industry, number of employees, headquarters'\n",
    "    ]\n",
    "}\n",
    "\n",
    "df = pd.DataFrame(data)\n",
    "print(df)\n",
    "\n",
    "df.head()\n"
   ]
  },
  {
   "cell_type": "markdown",
   "id": "a2ca9c74",
   "metadata": {},
   "source": [
    "-  Convert Table Definitions to Text Format"
   ]
  },
  {
   "cell_type": "code",
   "execution_count": 81,
   "id": "a80a5fa5",
   "metadata": {},
   "outputs": [
    {
     "name": "stdout",
     "output_type": "stream",
     "text": [
      "Engineers: Engineer details: name, age, specialization, years of experience\n",
      "Specialties: List of engineering specializations (e.g., Aerospace, Software, Mechanical, Civil)\n",
      "Projects: Project details: project name, type, duration, assigned engineers\n",
      "Companies: Company details: name, industry, number of employees, headquarters\n"
     ]
    }
   ],
   "source": [
    "text_tables = '\\n'.join([f\"{row['table']}: {row['definition']}\" for index, row in df.iterrows()])\n",
    "print(text_tables)"
   ]
  },
  {
   "cell_type": "markdown",
   "id": "9e3c05d8",
   "metadata": {},
   "source": [
    "- Generate and Execute the First Query"
   ]
  },
  {
   "cell_type": "code",
   "execution_count": 82,
   "id": "74c85328",
   "metadata": {},
   "outputs": [
    {
     "name": "stdout",
     "output_type": "stream",
     "text": [
      "```json\n",
      "{\n",
      "    \"tables\": [\"Engineers\", \"Specialties\"]\n",
      "}\n",
      "```\n"
     ]
    }
   ],
   "source": [
    "pqt1 = prompt_question_tables.format(tables=text_tables, question=\"based on performance and dedication, which engineering specialty is known for having the most hardworking engineers?\")\n",
    "print(return_OAI(pqt1))"
   ]
  },
  {
   "cell_type": "markdown",
   "id": "4efc3ab0",
   "metadata": {},
   "source": [
    "- Generate the Second Query - aggregated result"
   ]
  },
  {
   "cell_type": "code",
   "execution_count": 83,
   "id": "ce90fd92",
   "metadata": {},
   "outputs": [
    {
     "name": "stdout",
     "output_type": "stream",
     "text": [
      "```json\n",
      "{\n",
      "    \"Tables\": [\"Engineers\", \"Projects\"]\n",
      "}\n",
      "```\n"
     ]
    }
   ],
   "source": [
    "pqt3 = prompt_question_tables.format(tables=text_tables,\n",
    "                                     question='Return the engineer with the highest number of completed projectse')\n",
    "print(return_OAI(pqt3))"
   ]
  },
  {
   "cell_type": "markdown",
   "id": "9f57d9c3",
   "metadata": {},
   "source": [
    "# Version Three:  Aviation "
   ]
  },
  {
   "cell_type": "code",
   "execution_count": 84,
   "id": "163a1307",
   "metadata": {},
   "outputs": [
    {
     "data": {
      "text/html": [
       "<div>\n",
       "<style scoped>\n",
       "    .dataframe tbody tr th:only-of-type {\n",
       "        vertical-align: middle;\n",
       "    }\n",
       "\n",
       "    .dataframe tbody tr th {\n",
       "        vertical-align: top;\n",
       "    }\n",
       "\n",
       "    .dataframe thead th {\n",
       "        text-align: right;\n",
       "    }\n",
       "</style>\n",
       "<table border=\"1\" class=\"dataframe\">\n",
       "  <thead>\n",
       "    <tr style=\"text-align: right;\">\n",
       "      <th></th>\n",
       "      <th>table</th>\n",
       "      <th>definition</th>\n",
       "    </tr>\n",
       "  </thead>\n",
       "  <tbody>\n",
       "    <tr>\n",
       "      <th>0</th>\n",
       "      <td>Aircraft</td>\n",
       "      <td>Aircraft details: model, manufacturer, capacit...</td>\n",
       "    </tr>\n",
       "    <tr>\n",
       "      <th>1</th>\n",
       "      <td>Pilots</td>\n",
       "      <td>Pilot details: name, license type, flight hour...</td>\n",
       "    </tr>\n",
       "    <tr>\n",
       "      <th>2</th>\n",
       "      <td>Flights</td>\n",
       "      <td>Flight details: flight number, origin, destina...</td>\n",
       "    </tr>\n",
       "    <tr>\n",
       "      <th>3</th>\n",
       "      <td>Maintenance</td>\n",
       "      <td>Maintenance records: aircraft ID, last service...</td>\n",
       "    </tr>\n",
       "  </tbody>\n",
       "</table>\n",
       "</div>"
      ],
      "text/plain": [
       "         table                                         definition\n",
       "0     Aircraft  Aircraft details: model, manufacturer, capacit...\n",
       "1       Pilots  Pilot details: name, license type, flight hour...\n",
       "2      Flights  Flight details: flight number, origin, destina...\n",
       "3  Maintenance  Maintenance records: aircraft ID, last service..."
      ]
     },
     "execution_count": 84,
     "metadata": {},
     "output_type": "execute_result"
    }
   ],
   "source": [
    "import pandas as pd\n",
    "\n",
    "# Table and definitions \n",
    "data = {\n",
    "    'table': ['Aircraft', 'Pilots', 'Flights', 'Maintenance'],\n",
    "    'definition': [\n",
    "        'Aircraft details: model, manufacturer, capacity, registration number',\n",
    "        'Pilot details: name, license type, flight hours, assigned aircraft',\n",
    "        'Flight details: flight number, origin, destination, schedule, status',\n",
    "        'Maintenance records: aircraft ID, last service date, next due service, issues reported'\n",
    "    ]\n",
    "}\n",
    "\n",
    "df = pd.DataFrame(data)\n",
    "df.head()"
   ]
  },
  {
   "cell_type": "markdown",
   "id": "7cc96032",
   "metadata": {},
   "source": [
    "-  Convert Table Definitions to Text Format"
   ]
  },
  {
   "cell_type": "code",
   "execution_count": 85,
   "id": "e7d77b45",
   "metadata": {},
   "outputs": [
    {
     "name": "stdout",
     "output_type": "stream",
     "text": [
      "Aircraft: Aircraft details: model, manufacturer, capacity, registration number\n",
      "Pilots: Pilot details: name, license type, flight hours, assigned aircraft\n",
      "Flights: Flight details: flight number, origin, destination, schedule, status\n",
      "Maintenance: Maintenance records: aircraft ID, last service date, next due service, issues reported\n"
     ]
    }
   ],
   "source": [
    "text_tables = '\\n'.join([f\"{row['table']}: {row['definition']}\" for index, row in df.iterrows()])\n",
    "print(text_tables)"
   ]
  },
  {
   "cell_type": "markdown",
   "id": "250c419d",
   "metadata": {},
   "source": [
    "- Generate and Execute the First Query"
   ]
  },
  {
   "cell_type": "code",
   "execution_count": 86,
   "id": "2f8b10e3",
   "metadata": {},
   "outputs": [
    {
     "name": "stdout",
     "output_type": "stream",
     "text": [
      "```json\n",
      "{\n",
      "    \"Tables\": [\"Aircraft\", \"Maintenance\"]\n",
      "}\n",
      "```\n"
     ]
    }
   ],
   "source": [
    "pqt1 = prompt_question_tables.format(tables=text_tables, question=\"Return the issue reported of the Airbus 320\")\n",
    "print(return_OAI(pqt1))\n"
   ]
  },
  {
   "cell_type": "markdown",
   "id": "d020a47b",
   "metadata": {},
   "source": [
    "- Generate the Second Query - aggregated result\n"
   ]
  },
  {
   "cell_type": "code",
   "execution_count": 87,
   "id": "b306e0de",
   "metadata": {},
   "outputs": [
    {
     "name": "stdout",
     "output_type": "stream",
     "text": [
      "```json\n",
      "{\n",
      "    \"tables\": [\"Pilots\"]\n",
      "}\n",
      "```\n"
     ]
    }
   ],
   "source": [
    "pqt3 = prompt_question_tables.format(tables=text_tables, question='Return the pilot with the highest number of flight hours')\n",
    "print(return_OAI(pqt3))"
   ]
  }
 ],
 "metadata": {
  "colab": {
   "include_colab_link": true,
   "provenance": []
  },
  "kernelspec": {
   "display_name": "base",
   "language": "python",
   "name": "python3"
  },
  "language_info": {
   "codemirror_mode": {
    "name": "ipython",
    "version": 3
   },
   "file_extension": ".py",
   "mimetype": "text/x-python",
   "name": "python",
   "nbconvert_exporter": "python",
   "pygments_lexer": "ipython3",
   "version": "3.12.7"
  }
 },
 "nbformat": 4,
 "nbformat_minor": 5
}
